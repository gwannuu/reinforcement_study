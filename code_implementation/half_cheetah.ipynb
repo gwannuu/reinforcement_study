{
 "cells": [
  {
   "cell_type": "code",
   "execution_count": 1,
   "metadata": {},
   "outputs": [
    {
     "name": "stderr",
     "output_type": "stream",
     "text": [
      "/Users/gwanwoo/Developer/reinforcement_study/venv/lib/python3.10/site-packages/tqdm/auto.py:21: TqdmWarning: IProgress not found. Please update jupyter and ipywidgets. See https://ipywidgets.readthedocs.io/en/stable/user_install.html\n",
      "  from .autonotebook import tqdm as notebook_tqdm\n"
     ]
    }
   ],
   "source": [
    "from train.lib import device\n",
    "from train.actor_critic import HalfCheetahActor, HalfCheetahCritic, REINFORCEwithBaseline, REINFORCEBatch\n",
    "import gymnasium as gym\n",
    "import cv2\n",
    "import matplotlib.pyplot as plt"
   ]
  },
  {
   "cell_type": "code",
   "execution_count": 2,
   "metadata": {},
   "outputs": [
    {
     "name": "stderr",
     "output_type": "stream",
     "text": [
      " 20%|██        | 1/5 [00:00<00:01,  2.30it/s]"
     ]
    },
    {
     "name": "stdout",
     "output_type": "stream",
     "text": [
      "Episode 0: total_reward: -854.998, actor_object: -602288.750, critic_loss: 6375.496, num_step: 1000\n"
     ]
    },
    {
     "name": "stderr",
     "output_type": "stream",
     "text": [
      " 40%|████      | 2/5 [00:00<00:01,  2.63it/s]"
     ]
    },
    {
     "name": "stdout",
     "output_type": "stream",
     "text": [
      "Episode 1: total_reward: -695.047, actor_object: -493271.031, critic_loss: 4278.806, num_step: 1000\n"
     ]
    },
    {
     "name": "stderr",
     "output_type": "stream",
     "text": [
      " 60%|██████    | 3/5 [00:01<00:00,  2.73it/s]"
     ]
    },
    {
     "name": "stdout",
     "output_type": "stream",
     "text": [
      "Episode 2: total_reward: -774.829, actor_object: -546049.438, critic_loss: 5148.357, num_step: 1000\n"
     ]
    },
    {
     "name": "stderr",
     "output_type": "stream",
     "text": [
      " 80%|████████  | 4/5 [00:01<00:00,  2.81it/s]"
     ]
    },
    {
     "name": "stdout",
     "output_type": "stream",
     "text": [
      "Episode 3: total_reward: -624.677, actor_object: -448746.000, critic_loss: 3662.368, num_step: 1000\n"
     ]
    },
    {
     "name": "stderr",
     "output_type": "stream",
     "text": [
      "100%|██████████| 5/5 [00:01<00:00,  2.76it/s]"
     ]
    },
    {
     "name": "stdout",
     "output_type": "stream",
     "text": [
      "Episode 4: total_reward: -656.194, actor_object: -453060.500, critic_loss: 3707.096, num_step: 1000\n",
      "Episode 5: total_reward: -656.194, actor_object: -453060.500, critic_loss: 3707.096, num_step: 1000\n"
     ]
    },
    {
     "name": "stderr",
     "output_type": "stream",
     "text": [
      "\n",
      "2025-02-27 15:15:29.622 python[56665:682798] +[IMKClient subclass]: chose IMKClient_Modern\n",
      "2025-02-27 15:15:29.622 python[56665:682798] +[IMKInputSession subclass]: chose IMKInputSession_Modern\n"
     ]
    },
    {
     "name": "stdout",
     "output_type": "stream",
     "text": [
      "video is saved in /Users/gwanwoo/Developer/reinforcement_study/code_implementation/HalfCheetah-v5_REINFORCEwithBaseline_20250227-1515/test_0.mp4\n"
     ]
    }
   ],
   "source": [
    "env = gym.make('HalfCheetah-v5', render_mode=\"rgb_array\")\n",
    "actor = HalfCheetahActor(hidden_dim=64)\n",
    "critic = HalfCheetahCritic(hidden_dim=32)\n",
    "trainer = REINFORCEwithBaseline(env=env, actor=actor, critic=critic)\n",
    "episodes_of_rewards, (actor_losses, critic_losses) = trainer.train(\n",
    "    num_episodes=5,\n",
    "    logging_per_episodes=1,\n",
    "    save_per_episodes=1,\n",
    ")\n",
    "frames_list = trainer.render(num_render=1)\n",
    "trainer.save_as_video(frames_list=frames_list, name=\"test\")\n"
   ]
  },
  {
   "cell_type": "code",
   "execution_count": null,
   "metadata": {},
   "outputs": [],
   "source": []
  },
  {
   "cell_type": "code",
   "execution_count": null,
   "metadata": {},
   "outputs": [],
   "source": []
  }
 ],
 "metadata": {
  "kernelspec": {
   "display_name": "venv",
   "language": "python",
   "name": "python3"
  },
  "language_info": {
   "codemirror_mode": {
    "name": "ipython",
    "version": 3
   },
   "file_extension": ".py",
   "mimetype": "text/x-python",
   "name": "python",
   "nbconvert_exporter": "python",
   "pygments_lexer": "ipython3",
   "version": "3.10.12"
  }
 },
 "nbformat": 4,
 "nbformat_minor": 2
}
